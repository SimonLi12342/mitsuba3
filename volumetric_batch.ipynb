{
 "cells": [
  {
   "cell_type": "code",
   "execution_count": 1,
   "metadata": {},
   "outputs": [],
   "source": [
    "import os\n",
    "import sys\n",
    "root = os.path.abspath(\"\")\n",
    "sys.path.insert(0, f\"{root}/build/python\")\n",
    "sys.path.insert(0, f\"{root}/src/python/python/loaders\")\n",
    "\n",
    "import matplotlib.pyplot as plt\n",
    "\n",
    "import drjit as dr\n",
    "import mitsuba as mi\n",
    "\n",
    "mi.set_variant('llvm_ad_rgb', 'cuda_ad_rgb')\n",
    "\n",
    "from mitsuba import ScalarTransform4f as T\n",
    "from gaussnewton import conjugate_gradient, AlbedoScene\n",
    "\n",
    "sensor_count = 5\n",
    "sensor_dict = {\n",
    "    'type': 'batch',\n",
    "    'film': {\n",
    "        'type': 'hdrfilm',\n",
    "        'width': 64 * sensor_count, 'height': 64,\n",
    "        'filter': {'type': 'box'},\n",
    "        'pixel_format': 'rgba'\n",
    "    }\n",
    "}\n",
    "\n",
    "for i in range(sensor_count):\n",
    "    angle = 180.0 / sensor_count * i - 90.0\n",
    "    sensor_rotation = mi.ScalarTransform4f.rotate([0, 1, 0], angle)\n",
    "    sensor_to_world = mi.ScalarTransform4f.look_at(target=[0, 0, 0], origin=[0, 0, 4], up=[0, 1, 0])\n",
    "    sensor_dict[f\"sensor_{i}\"] = {\n",
    "        'type': 'perspective',\n",
    "        'fov': 45,\n",
    "        'to_world': sensor_rotation @ sensor_to_world,\n",
    "        }\n",
    "sensor = mi.load_dict(sensor_dict)\n",
    "    \n",
    "def plot_batch_output(out: mi.TensorXf):\n",
    "    fig, ax = plt.subplots(figsize=(5*sensor_count, 5))\n",
    "    ax.imshow(mi.util.convert_to_bitmap(out))\n",
    "    ax.axis('off');"
   ]
  },
  {
   "cell_type": "code",
   "execution_count": 2,
   "metadata": {},
   "outputs": [
    {
     "name": "stdout",
     "output_type": "stream",
     "text": [
      "\n"
     ]
    },
    {
     "data": {
      "image/png": "[encoded data removed]",
      "text/plain": [
       "<Figure size 2500x500 with 1 Axes>"
      ]
     },
     "metadata": {},
     "output_type": "display_data"
    }
   ],
   "source": [
    "scene_dict = {\n",
    "    'type': 'scene',\n",
    "    'integrator': {'type': 'prbvolpath'},\n",
    "    'object': {\n",
    "        'type': 'cube',\n",
    "        'bsdf': {'type': 'null'},\n",
    "        'interior': {\n",
    "            'type': 'heterogeneous',\n",
    "            'sigma_t': {\n",
    "                'type': 'gridvolume',\n",
    "                'filename': './tutorials/scenes/volume.vol',\n",
    "                'to_world': mi.ScalarTransform4f.rotate([1, 0, 0], -90).scale(2).translate(-0.5)\n",
    "            },\n",
    "            'scale': 40\n",
    "        }\n",
    "    },\n",
    "    'emitter': {'type': 'constant'}\n",
    "}\n",
    "\n",
    "scene_ref = mi.load_dict(scene_dict)\n",
    "\n",
    "# Number of samples per pixel for reference images\n",
    "ref_spp = 512\n",
    "\n",
    "ref_images = mi.render(scene_ref, sensor=sensor, spp=ref_spp)\n",
    "plot_batch_output(ref_images)"
   ]
  },
  {
   "cell_type": "code",
   "execution_count": null,
   "metadata": {},
   "outputs": [],
   "source": [
    "v_res = 16\n",
    "\n",
    "# Modify the scene dictionary\n",
    "scene_dict['object'] = {\n",
    "    'type': 'cube',\n",
    "    'interior': {\n",
    "        'type': 'heterogeneous',\n",
    "        'sigma_t': {\n",
    "            'type': 'gridvolume',\n",
    "            'grid': mi.VolumeGrid(dr.full(mi.TensorXf, 0.002, (v_res, v_res, v_res, 1))),\n",
    "            'to_world': mi.ScalarTransform4f.translate(-1).scale(2.0)\n",
    "        },\n",
    "        'scale': 40.0,\n",
    "    },\n",
    "    'bsdf': {'type': 'null'}\n",
    "}\n",
    "\n",
    "scene = mi.load_dict(scene_dict)\n",
    "\n",
    "init_images = mi.render(scene, sensor=sensor, spp=ref_spp)\n",
    "plot_batch_output(init_images)"
   ]
  },
  {
   "cell_type": "code",
   "execution_count": null,
   "metadata": {},
   "outputs": [],
   "source": [
    "# params = mi.traverse(scene)\n",
    "\n",
    "# #key = {'sigmat': params['sigmat']} #'object.interior_medium.sigma_t.data'\n",
    "# keys = {'object.interior_medium.sigma_t.data'}\n",
    "# experiment_idx = -1\n",
    "# sc = AlbedoScene(scene, params,  keys, sensor, ref_images = ref_images, _EXP_IDX = experiment_idx)\n",
    "\n",
    "# iteration_count = 40\n",
    "# spp = 8\n",
    "# loss = sc.eval_func()\n",
    "# for it in range(iteration_count):\n",
    "    \n",
    "#     # Compute the Gauss-Newton descent direction\n",
    "#     descent_dir = conjugate_gradient(sc.values(), loss, sc)\n",
    "\n",
    "#     # Optimizer: take a Gauss Newton descent step\n",
    "#     sc.step(descent_dir)\n",
    "\n",
    "#     # Compute the loss using the current parameter values\n",
    "#     loss = sc.eval_func()\n",
    "\n",
    "#     # Clamp the optimized density values. Since we used the `scale` parameter\n",
    "#     # when instantiating the volume, we are in fact optimizing extinction\n",
    "#     # in a range from [1e-6 * scale, scale].\n",
    "#     # opt[key] = dr.clamp(opt[key], 1e-6, 1.0)\n",
    "\n",
    "#     # Propagate changes to the scene\n",
    "#     # params.update(opt)\n",
    "#     print(f\"Iteration {it:02d}: error={loss[0]:6f}\", end='\\r')"
   ]
  },
  {
   "cell_type": "code",
   "execution_count": null,
   "metadata": {},
   "outputs": [],
   "source": [
    "\n",
    "params = mi.traverse(scene)\n",
    "\n",
    "key = 'object.interior_medium.sigma_t.data'\n",
    "\n",
    "opt = mi.ad.Adam(lr=0.02)\n",
    "opt[key] = params[key]\n",
    "params.update(opt);\n",
    "\n",
    "iteration_count = 40\n",
    "spp = 4\n",
    "\n",
    "for it in range(iteration_count):\n",
    "    \n",
    "    img = mi.render(scene, params, sensor=sensor, spp=spp, seed=it)\n",
    "\n",
    "    # L2 loss function\n",
    "    loss = dr.mean(dr.sqr(img - ref_images))\n",
    "\n",
    "    # Backpropagate gradients\n",
    "    dr.backward(loss)\n",
    "\n",
    "    # Take a gradient step\n",
    "    opt.step()\n",
    "\n",
    "    # Clamp the optimized density values. Since we used the `scale` parameter\n",
    "    # when instantiating the volume, we are in fact optimizing extinction\n",
    "    # in a range from [1e-6 * scale, scale].\n",
    "    opt[key] = dr.clamp(opt[key], 1e-6, 1.0)\n",
    "\n",
    "    # Propagate changes to the scene\n",
    "    params.update(opt)\n",
    "    print(f\"Iteration {it:02d}: error={loss[0]:6f}\", end='\\r')"
   ]
  },
  {
   "cell_type": "code",
   "execution_count": null,
   "metadata": {},
   "outputs": [],
   "source": [
    "intermediate_images = mi.render(scene, sensor=sensor, spp=ref_spp)\n",
    "plot_batch_output(intermediate_images)"
   ]
  }
 ],
 "metadata": {
  "kernelspec": {
   "display_name": "test",
   "language": "python",
   "name": "python3"
  },
  "language_info": {
   "codemirror_mode": {
    "name": "ipython",
    "version": 3
   },
   "file_extension": ".py",
   "mimetype": "text/x-python",
   "name": "python",
   "nbconvert_exporter": "python",
   "pygments_lexer": "ipython3",
   "version": "3.11.5"
  }
 },
 "nbformat": 4,
 "nbformat_minor": 2
}
