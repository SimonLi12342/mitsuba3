{
 "cells": [
  {
   "cell_type": "markdown",
   "id": "f53b58d7-4a4c-41cd-b689-c42462d7c464",
   "metadata": {},
   "source": [
    "# Volumetric inverse rendering"
   ]
  },
  {
   "cell_type": "markdown",
   "id": "2c00d2cc-3e22-464c-bf13-cf703e29cf23",
   "metadata": {},
   "source": [
    "## Overview\n",
    "\n",
    "In this tutorial, we use Mitsuba's differentiable volumetric path tracer to optimize a scattering volume to match a set of (synthetic) reference images. We will optimize a 3D volume density that's stored on a regular grid. The optimization will account for both direct and indirect illumination by using [path replay backpropagation][1] to compute derivatives of delta tracking and volumetric multiple scattering. The reconstructed volume parameters can then for example be re-rendered using novel illumination conditions.\n",
    "\n",
    "\n",
    "<div class=\"admonition important alert alert-block alert-success\">\n",
    "\n",
    "🚀 **You will learn how to:**\n",
    "    \n",
    "<ul>\n",
    "  <li>Construct a scene with volumes</li>\n",
    "  <li>Optimize a volume grid to match a set of reference images</li>\n",
    "  <li>Upscale the optimized parameters during the optimization</li>\n",
    "</ul>\n",
    "    \n",
    "</div>\n",
    "\n",
    "[1]: https://rgl.epfl.ch/publications/Vicini2021PathReplay"
   ]
  },
  {
   "cell_type": "markdown",
   "id": "644bbd28-7d4b-4494-8926-d8a1e892d69d",
   "metadata": {},
   "source": [
    "## Setup\n",
    "\n",
    "As always, we start with the usual imports and set a variant that supports automatic differentation."
   ]
  },
  {
   "cell_type": "code",
   "execution_count": 1,
   "id": "83ec80cc-d2a5-46da-83bd-cd66f8947a23",
   "metadata": {},
   "outputs": [],
   "source": [
    "import matplotlib.pyplot as plt\n",
    "import os, sys\n",
    "root = os.path.abspath(\"\")\n",
    "sys.path.insert(0, f\"{root}/build/python\")\n",
    "sys.path.insert(0, f\"{root}/src/python/python/loaders\")\n",
    "\n",
    "import drjit as dr\n",
    "import mitsuba as mi\n",
    "\n",
    "mi.set_variant('llvm_ad_rgb')"
   ]
  },
  {
   "cell_type": "markdown",
   "id": "fbd1cb4f-c4e5-4bf7-9b24-417c4ee080a9",
   "metadata": {},
   "source": [
    "## Creating multiple sensors\n",
    "\n",
    "We cannot hope to obtain a robust volumetric reconstruction using only a single reference image. Multiple viewpoints are needed to sufficiently constrain the reconstructed volume density.  Using a multi-view optimization we can recover volume parameters that generalize to novel views (and illumination conditions).\n",
    "\n",
    "In this tutorial, we use 5 sensors placed on a half circle around the origin. For the simple optimization in this tutorial this is sufficient, but more complex scenes may require using significantly more views (e.g., using 50-100 sensors is not unreasonable)."
   ]
  },
  {
   "cell_type": "code",
   "execution_count": 7,
   "id": "10333b5e-eb4a-4b97-bb97-7895f2d8cd0d",
   "metadata": {},
   "outputs": [],
   "source": [
    "from mitsuba import ScalarTransform4f as T\n",
    "\n",
    "sensor_count = 5\n",
    "sensors_dict = {\n",
    "    'type': 'batch',\n",
    "    'film': {\n",
    "            'type': 'hdrfilm',\n",
    "            'width': 64 * sensor_count, 'height': 64,\n",
    "            'filter': {'type': 'tent'}\n",
    "    },\n",
    "}\n",
    "\n",
    "for i in range(sensor_count):\n",
    "    angle = 180.0 / sensor_count * i - 90.0\n",
    "    sensor_rotation = T.rotate([0, 1, 0], angle)\n",
    "    sensor_to_world = T.look_at(target=[0, 0, 0], origin=[0, 0, 4], up=[0, 1, 0])\n",
    "    sensors_dict['sensor' + str(i)] = {\n",
    "        'type': 'perspective',\n",
    "        'fov': 45,\n",
    "        'to_world': sensor_rotation @ sensor_to_world,\n",
    "    }\n",
    "sensors = mi.load_dict(sensors_dict)"
   ]
  },
  {
   "cell_type": "markdown",
   "id": "bddf2808-6b4f-49a8-b3c2-3d390c17e406",
   "metadata": {},
   "source": [
    "## Rendering synthetic reference images\n",
    "\n",
    "We will now setup a simple scene with a constant environment illumination and a reference volume placed at the origin. The heterogenous volume is instantiated inside of a cube. We assign the `null` BSDF to the cube's surface, since we do not want the cube's surface to interact with light in any way (i.e., the surface should be invisible). To learn more about volume rendering in Mitsuba, please refer to the [plugin documentation][1].\n",
    "\n",
    "We then render this scene using the previously created sensors and store the resulting images in a list for later use.\n",
    "\n",
    "\n",
    "[1]: https://mitsuba.readthedocs.io/en/latest/src/generated/plugins_media.html#heterogeneous-medium-heterogeneous"
   ]
  },
  {
   "cell_type": "code",
   "execution_count": 8,
   "id": "021d2244-3224-4da5-a453-328920b8c550",
   "metadata": {},
   "outputs": [],
   "source": [
    "scene_dict = {\n",
    "    'type': 'scene',\n",
    "    'integrator': {'type': 'prbvolpath'},\n",
    "    'object': {\n",
    "        'type': 'cube',\n",
    "        'bsdf': {'type': 'null'},\n",
    "        'interior': {\n",
    "            'type': 'heterogeneous',\n",
    "            'sigma_t': {\n",
    "                'type': 'gridvolume',\n",
    "                'filename': './tutorials/scenes/volume.vol',\n",
    "                'to_world': T.rotate([1, 0, 0], -90).scale(2).translate(-0.5)\n",
    "            },\n",
    "            'scale': 40\n",
    "        }\n",
    "    },\n",
    "    'emitter': {'type': 'constant'}\n",
    "}\n",
    "\n",
    "scene_ref = mi.load_dict(scene_dict)\n",
    "\n",
    "# Number of samples per pixel for reference images\n",
    "ref_spp = 512"
   ]
  },
  {
   "cell_type": "code",
   "execution_count": null,
   "id": "ffd5b53a-5c17-437a-83d2-6712bbfe1d86",
   "metadata": {
    "nbsphinx": "hidden",
    "tags": []
   },
   "outputs": [],
   "source": [
    "# IGNORE THIS: When running under pytest, adjust parameters to reduce computation time\n",
    "import os\n",
    "if 'PYTEST_CURRENT_TEST' in os.environ:\n",
    "    ref_spp = 2"
   ]
  },
  {
   "cell_type": "code",
   "execution_count": 9,
   "id": "16008559-86a3-4b9f-80e2-c28ccb5aac37",
   "metadata": {},
   "outputs": [],
   "source": [
    "ref_images = mi.render(scene_ref, sensor=sensors, spp=ref_spp)"
   ]
  },
  {
   "cell_type": "code",
   "execution_count": 13,
   "id": "142d1dd5-6693-4030-a942-35ff70b7b826",
   "metadata": {},
   "outputs": [
    {
     "data": {
      "text/plain": [
       "<matplotlib.image.AxesImage at 0x7f02883d0c90>"
      ]
     },
     "execution_count": 13,
     "metadata": {},
     "output_type": "execute_result"
    },
    {
     "data": {
      "image/png": "[encoded data removed]",
      "text/plain": [
       "<Figure size 640x480 with 1 Axes>"
      ]
     },
     "metadata": {},
     "output_type": "display_data"
    }
   ],
   "source": [
    "plt.imshow(mi.util.convert_to_bitmap(ref_images))"
   ]
  },
  {
   "cell_type": "markdown",
   "id": "825f10c4-265e-4f53-9515-7688b142c2db",
   "metadata": {},
   "source": [
    "## Setting up the optimization scene\n",
    "Our goal is now to optimize a 3D volume density (also called extinction) to match the previously generated reference images. For this we create a second scene, where we replace the reference volume by a simple uniform initialization. \n",
    "\n",
    "To initialize a volume grid from Python, we use the [<code>VolumeGrid</code>][2] object in conjunction with [<code>TensorXf</code>][3]. The `VolumeGrid` class is responsible for loading and writing volumes from disk, similar to the `Bitmap` class for images. Using the `grid` property of the [<code>gridvolume</code>][4] plugin, it is possible to pass it directly to the plugin constructor in Python.\n",
    "\n",
    "We initialize the extinction `sigma_t` to a low constant value, (e.g. `0.002`). This tends to help the optimization process, as it seems to be easier for the optimizer to increase the volume density rather than remove parts of a very dense volume. \n",
    "\n",
    "Note that we use a fairly small initial volume resolution here. This is done on purpose since we will upsample the volume grid during the actual optimization process. As explained later, this typically improves the convexity of the volume optimization problem.\n",
    "\n",
    "[1]: https://mitsuba.readthedocs.io/en/latest/src/generated/plugins_media.html#heterogeneous-medium-heterogeneous\n",
    "[2]: https://mitsuba.readthedocs.io/en/latest/src/api_reference.html#mitsuba.VolumeGrid\n",
    "[3]: https://mitsuba.readthedocs.io/en/latest/src/api_reference.html#mitsuba.TensorXf\n",
    "[4]: https://mitsuba.readthedocs.io/en/latest/src/generated/plugins_media.html#grid-based-volume-data-source-gridvolume"
   ]
  },
  {
   "cell_type": "code",
   "execution_count": 14,
   "id": "82313a97-a314-43a3-8a4b-f4e32305f1a2",
   "metadata": {},
   "outputs": [],
   "source": [
    "v_res = 16\n",
    "\n",
    "# Modify the scene dictionary\n",
    "scene_dict['object'] = {\n",
    "    'type': 'cube',\n",
    "    'interior': {\n",
    "        'type': 'heterogeneous',\n",
    "        'sigma_t': {\n",
    "            'type': 'gridvolume',\n",
    "            'grid': mi.VolumeGrid(dr.full(mi.TensorXf, 0.002, (v_res, v_res, v_res, 1))),\n",
    "            'to_world': T.translate(-1).scale(2.0)\n",
    "        },\n",
    "        'scale': 40.0,\n",
    "    },\n",
    "    'bsdf': {'type': 'null'}\n",
    "}\n",
    "\n",
    "scene = mi.load_dict(scene_dict)"
   ]
  },
  {
   "cell_type": "markdown",
   "id": "5890a714-a81c-4f37-bc9f-7ec2e4335a6a",
   "metadata": {},
   "source": [
    "We load the modified scene and render it for all view angles. Those are going to be our initial image in the optimization process."
   ]
  },
  {
   "cell_type": "code",
   "execution_count": 16,
   "id": "91050ab4-91ac-413b-89c0-959d024498e0",
   "metadata": {},
   "outputs": [
    {
     "data": {
      "text/html": [
       "<img src=\"data:image/png;base64, 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\"width=\"250vm\" />"
      ],
      "text/plain": [
       "Bitmap[\n",
       "  pixel_format = rgb,\n",
       "  component_format = uint8,\n",
       "  size = [320, 64],\n",
       "  srgb_gamma = 1,\n",
       "  struct = Struct<3>[\n",
       "    uint8 R; // @0, normalized, gamma, premultiplied alpha\n",
       "    uint8 G; // @1, normalized, gamma, premultiplied alpha\n",
       "    uint8 B; // @2, normalized, gamma, premultiplied alpha\n",
       "  ],\n",
       "  data = [ 60 KiB of image data ]\n",
       "]"
      ]
     },
     "execution_count": 16,
     "metadata": {},
     "output_type": "execute_result"
    }
   ],
   "source": [
    "init_images = mi.render(scene, sensor=sensors, spp=ref_spp)\n",
    "mi.util.convert_to_bitmap(init_images)"
   ]
  },
  {
   "cell_type": "markdown",
   "id": "3a1cf830-9ad3-4bd7-98ca-3840e3179378",
   "metadata": {},
   "source": [
    "## Optimization\n",
    "\n",
    "We instantiate an `Adam` optimizer and load the `sigma_t` grid data as parameter to be optimized."
   ]
  },
  {
   "cell_type": "code",
   "execution_count": 17,
   "id": "41f4e964-c5f9-4d7d-81d3-e8669bf153c0",
   "metadata": {},
   "outputs": [],
   "source": [
    "params = mi.traverse(scene)\n",
    "\n",
    "key = 'object.interior_medium.sigma_t.data'\n",
    "\n",
    "opt = mi.ad.Adam(lr=0.02)\n",
    "opt[key] = params[key]\n",
    "params.update(opt);\n",
    "\n",
    "iteration_count = 40\n",
    "spp = 8"
   ]
  },
  {
   "cell_type": "code",
   "execution_count": 18,
   "id": "963d312f-e883-4e37-ad42-b93c360e51fd",
   "metadata": {
    "nbsphinx": "hidden",
    "tags": []
   },
   "outputs": [],
   "source": [
    "# IGNORE THIS: When running under pytest, adjust parameters to reduce computation time\n",
    "import os\n",
    "if 'PYTEST_CURRENT_TEST' in os.environ:\n",
    "    iteration_count = 2\n",
    "    spp = 1"
   ]
  },
  {
   "cell_type": "markdown",
   "id": "210af9ef-b720-4d60-842a-88daa316db9f",
   "metadata": {},
   "source": [
    "We then run the optimization loop for a few iterations, similar to the other tutorials."
   ]
  },
  {
   "cell_type": "code",
   "execution_count": 19,
   "id": "4af17b50-c809-472e-a55d-4b1589a5e84a",
   "metadata": {},
   "outputs": [
    {
     "name": "stdout",
     "output_type": "stream",
     "text": [
      "Iteration 39: error=0.008292\r"
     ]
    }
   ],
   "source": [
    "for it in range(iteration_count):\n",
    "    total_loss = 0.0\n",
    "    # Perform the differentiable light transport simulation\n",
    "    img = mi.render(scene, params, sensor=sensors, spp=spp, seed=it)\n",
    "    \n",
    "    # L2 loss function\n",
    "    loss = dr.mean(dr.sqr(img - ref_images))\n",
    "    \n",
    "    # Backpropagate gradients\n",
    "    dr.backward(loss)\n",
    "\n",
    "    # Take a gradient step\n",
    "    opt.step()\n",
    "    \n",
    "    # Clamp the optimized density values. Since we used the `scale` parameter \n",
    "    # when instantiating the volume, we are in fact optimizing extinction \n",
    "    # in a range from [1e-6 * scale, scale].\n",
    "    opt[key] = dr.clamp(opt[key], 1e-6, 1.0)\n",
    "    \n",
    "    # Propagate changes to the scene\n",
    "    params.update(opt)\n",
    "    \n",
    "    total_loss += loss[0]\n",
    "    print(f\"Iteration {it:02d}: error={total_loss:6f}\", end='\\r')"
   ]
  },
  {
   "cell_type": "markdown",
   "id": "f046cdc9-572e-43a1-b281-3ae65a29097e",
   "metadata": {},
   "source": [
    "## Intermediate results\n",
    "\n",
    "We have only performed a few iterations so far and can take a look at the current results."
   ]
  },
  {
   "cell_type": "code",
   "execution_count": 21,
   "id": "74c3bf2f-21f7-4635-8fce-261a70cd5062",
   "metadata": {},
   "outputs": [
    {
     "ename": "TypeError",
     "evalue": "'Axes' object is not subscriptable",
     "output_type": "error",
     "traceback": [
      "\u001b[0;31m---------------------------------------------------------------------------\u001b[0m",
      "\u001b[0;31mTypeError\u001b[0m                                 Traceback (most recent call last)",
      "Cell \u001b[0;32mIn[21], line 4\u001b[0m\n\u001b[1;32m      1\u001b[0m intermediate_images \u001b[38;5;241m=\u001b[39m mi\u001b[38;5;241m.\u001b[39mrender(scene, sensor\u001b[38;5;241m=\u001b[39msensors, spp\u001b[38;5;241m=\u001b[39mref_spp)\n\u001b[1;32m      3\u001b[0m fig, axs \u001b[38;5;241m=\u001b[39m plt\u001b[38;5;241m.\u001b[39msubplots(\u001b[38;5;241m1\u001b[39m, \u001b[38;5;241m1\u001b[39m, figsize\u001b[38;5;241m=\u001b[39m(\u001b[38;5;241m14\u001b[39m, \u001b[38;5;241m4\u001b[39m))\n\u001b[0;32m----> 4\u001b[0m axs[\u001b[38;5;241m0\u001b[39m]\u001b[38;5;241m.\u001b[39mimshow(mi\u001b[38;5;241m.\u001b[39mutil\u001b[38;5;241m.\u001b[39mconvert_to_bitmap(intermediate_images[i]))\n\u001b[1;32m      5\u001b[0m axs[\u001b[38;5;241m0\u001b[39m]\u001b[38;5;241m.\u001b[39maxis(\u001b[38;5;124m'\u001b[39m\u001b[38;5;124moff\u001b[39m\u001b[38;5;124m'\u001b[39m)\n",
      "\u001b[0;31mTypeError\u001b[0m: 'Axes' object is not subscriptable"
     ]
    },
    {
     "data": {
      "image/png": "[encoded data removed]",
      "text/plain": [
       "<Figure size 1400x400 with 1 Axes>"
      ]
     },
     "metadata": {},
     "output_type": "display_data"
    }
   ],
   "source": [
    "intermediate_images = mi.render(scene, sensor=sensors, spp=ref_spp)\n",
    "\n",
    "fig, axs = plt.subplots(1, 1, figsize=(14, 4))\n",
    "plt.imshow(mi.util.convert_to_bitmap(intermediate_images))"
   ]
  },
  {
   "cell_type": "markdown",
   "id": "c597b6e9-ca45-441b-ab6d-9bea4f35d329",
   "metadata": {},
   "source": [
    "## Volume upsampling\n",
    "\n",
    "The results above don't look great. One reason is the low resolution of the optimized volume grid. Let's try to increase the resolution of the current grid and continue the optimization for a few more iterations. In practice it is almost always beneficial to leverage such a \"multi-resolution\" approach. At low resolution, the optimization will recover the overall shape, exploring a much simpler solution landscape. Moving on to a volume with a higher resolution allows recovering additional detail, while using the coarser solution as a starting point.\n",
    "\n",
    "Luckily Dr.Jit provides [<code>dr.upsample()</code>][1], a functions for up-sampling tensor and texture data. We can easily create a higher resolution volume by passing the current optimzed tensor and specifying the desired shape (must be powers of two when upsampling `TensorXf`).\n",
    "\n",
    "[1]: https://drjit.readthedocs.io/en/latest/reference.html#drjit.upsample"
   ]
  },
  {
   "cell_type": "code",
   "execution_count": null,
   "id": "bbdfe9de-d1b2-4d06-89ed-ce2d93d1c383",
   "metadata": {},
   "outputs": [],
   "source": [
    "opt[key] = dr.upsample(opt[key], shape=(64, 64, 64))\n",
    "params.update(opt);"
   ]
  },
  {
   "cell_type": "markdown",
   "id": "068b99e7-fb72-4b3f-b166-2d7930daf86d",
   "metadata": {},
   "source": [
    "Rendering the new, upsampled volume we can already notice a slight difference in the apparent sharpness. This is due to the *trilinear* interpolation of density values that is used by the volumetric path tracer."
   ]
  },
  {
   "cell_type": "code",
   "execution_count": null,
   "id": "352c5176-ded0-4d13-8996-5d4dbe006c3b",
   "metadata": {},
   "outputs": [],
   "source": [
    "upscale_images = [mi.render(scene, sensor=sensors[i], spp=ref_spp) for i in range(sensor_count)]\n",
    "\n",
    "fig, axs = plt.subplots(1, sensor_count, figsize=(14, 4))\n",
    "for i in range(sensor_count):\n",
    "    axs[i].imshow(mi.util.convert_to_bitmap(upscale_images[i]))\n",
    "    axs[i].axis('off')"
   ]
  },
  {
   "cell_type": "markdown",
   "id": "a86592e8-a87c-497f-8c94-297cfbe06ad5",
   "metadata": {},
   "source": [
    "## Continuing the optimization\n",
    "\n",
    "Let's now run our optimization loop for a few more iterations with the upscaled volume grid.\n",
    "\n",
    "<div class=\"admonition important alert alert-block alert-info\">\n",
    "\n",
    "🗒 **Note**\n",
    "    \n",
    "The optimizer automatically resets the internal state (e.g., momentum) associated to the optimized variable when it detects a size change.\n",
    "\n",
    "</div>"
   ]
  },
  {
   "cell_type": "code",
   "execution_count": null,
   "id": "7c8b4e1b-a280-4178-8935-dd5c636aa846",
   "metadata": {},
   "outputs": [],
   "source": [
    "for it in range(iteration_count):\n",
    "    total_loss = 0.0\n",
    "    for sensor_idx in range(sensor_count):\n",
    "        img = mi.render(scene, params, sensor=sensors[sensor_idx], spp=8*spp, seed=it)\n",
    "        loss = dr.mean(dr.sqr(img - ref_images[sensor_idx]))\n",
    "        dr.backward(loss)\n",
    "        opt.step()\n",
    "        opt[key] = dr.clamp(opt[key], 1e-6, 1.0)\n",
    "        params.update(opt)\n",
    "        total_loss += loss[0]\n",
    "    print(f\"Iteration {it:02d}: error={total_loss:6f}\", end='\\r')"
   ]
  },
  {
   "cell_type": "markdown",
   "id": "725e9980-f9c5-416a-a1f1-896e5942716d",
   "metadata": {},
   "source": [
    "## Final results\n",
    "\n",
    "Finally we can render the final volume from the different view points and compare the images to the reference images."
   ]
  },
  {
   "cell_type": "code",
   "execution_count": null,
   "id": "57383d4d-780f-4824-a679-5021ca6d6a19",
   "metadata": {
    "nbsphinx-thumbnail": {},
    "tags": []
   },
   "outputs": [],
   "source": [
    "final_images = [mi.render(scene, sensor=sensors[i], spp=ref_spp) for i in range(sensor_count)]\n",
    "\n",
    "fig, axs = plt.subplots(2, sensor_count, figsize=(14, 6))\n",
    "for i in range(sensor_count):\n",
    "    axs[0][i].imshow(mi.util.convert_to_bitmap(ref_images[i]))\n",
    "    axs[0][i].axis('off')\n",
    "    axs[1][i].imshow(mi.util.convert_to_bitmap(final_images[i]))\n",
    "    axs[1][i].axis('off')"
   ]
  },
  {
   "cell_type": "markdown",
   "id": "c34cf18c-75c6-4280-a69d-6467023e8cac",
   "metadata": {},
   "source": [
    "Of course the results could be further improved by taking more iterations or adopting other advanced optimization schemes, such as multi-resolution rendering where the rendering resolution is increased throughout the optimization process. Additionally, it can sometimes be beneficial to add a sparsity (e.g., an $L_1$ loss on the density values) or smoothness prior (e.g., a total variation regularizer penalizing differences between neighboring voxels).\n",
    "\n"
   ]
  },
  {
   "cell_type": "markdown",
   "id": "f4473987-40c1-4d8a-b133-fc8d7e319420",
   "metadata": {},
   "source": [
    "## See also\n",
    "\n",
    "- [<code>prbvolpath</code> plugin](https://mitsuba.readthedocs.io/en/latest/src/generated/plugins_integrators.html#path-replay-backpropagation-volumetric-integrator-prbvolpath)\n",
    "- [<code>heterogeneous</code> plugin](https://mitsuba.readthedocs.io/en/latest/src/generated/plugins_media.html#heterogeneous-medium-heterogeneous)\n",
    "- [<code>gridvolume</code> plugin](https://mitsuba.readthedocs.io/en/latest/src/generated/plugins_media.html#grid-based-volume-data-source-gridvolume)\n",
    "- [<code>mitsuba.VolumeGrid</code>](https://mitsuba.readthedocs.io/en/latest/src/api_reference.html#mitsuba.VolumeGrid)\n",
    "- [<code>mitsuba.TensorXf</code>](https://mitsuba.readthedocs.io/en/latest/src/api_reference.html#mitsuba.TensorXf)\n",
    "- [<code>dr.upsample</code>](https://drjit.readthedocs.io/en/latest/reference.html#drjit.upsample)"
   ]
  }
 ],
 "metadata": {
  "interpreter": {
   "hash": "afd680236861e4ad68138f9ddf1f8bff806918beb77b7f0c16179efa24869fce"
  },
  "kernelspec": {
   "display_name": "Python 3 (ipykernel)",
   "language": "python",
   "name": "python3"
  },
  "language_info": {
   "codemirror_mode": {
    "name": "ipython",
    "version": 3
   },
   "file_extension": ".py",
   "mimetype": "text/x-python",
   "name": "python",
   "nbconvert_exporter": "python",
   "pygments_lexer": "ipython3",
   "version": "3.11.5"
  }
 },
 "nbformat": 4,
 "nbformat_minor": 5
}
