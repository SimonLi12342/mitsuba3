{
 "cells": [
  {
   "cell_type": "code",
   "execution_count": 1,
   "metadata": {},
   "outputs": [],
   "source": [
    "import numpy as np\n",
    "import sys, os\n",
    "cwd_split = os.getcwd().split(os.sep)\n",
    "root = os.path.abspath(\"\")\n",
    "sys.path.insert(0, f\"{root}/build/python\")\n",
    "\n",
    "import mitsuba as mi\n",
    "# mi.set_variant(\"cuda_ad_rgb\")\n",
    "mi.set_variant(\"cuda_ad_rgb_double\")\n",
    "import drjit as dr\n",
    "\n",
    "from gaussnewton_test import conjugate_gradient, AlbedoScene"
   ]
  },
  {
   "cell_type": "code",
   "execution_count": 2,
   "metadata": {},
   "outputs": [
    {
     "name": "stdout",
     "output_type": "stream",
     "text": [
      "6\n"
     ]
    },
    {
     "data": {
      "text/plain": [
       "6"
      ]
     },
     "execution_count": 2,
     "metadata": {},
     "output_type": "execute_result"
    }
   ],
   "source": [
    "a = mi.TensorXf([0.15, 1.0, 0.8, 0.0, 0.0, 0.0], [2,3])\n",
    "b = dr.ravel(a)\n",
    "print(len(b))\n",
    "\n",
    "len_values = {\"a\": 1,\n",
    "              \"b\": 2,\n",
    "              \"c\": 3}\n",
    "dr.sum(len_values.values())"
   ]
  },
  {
   "cell_type": "code",
   "execution_count": 3,
   "metadata": {},
   "outputs": [
    {
     "data": {
      "text/plain": [
       "[0, 1, 2, 3, 4, 5, 6, 7, 8, 9]"
      ]
     },
     "execution_count": 3,
     "metadata": {},
     "output_type": "execute_result"
    }
   ],
   "source": [
    "dr.arange(mi.UInt32, 0, 10)"
   ]
  },
  {
   "cell_type": "code",
   "execution_count": 4,
   "metadata": {},
   "outputs": [
    {
     "name": "stdout",
     "output_type": "stream",
     "text": [
      "3\n"
     ]
    },
    {
     "ename": "TypeError",
     "evalue": "__init__(): incompatible constructor arguments. The following argument types are supported:\n    1. drjit.cuda.ad.TensorXf64()\n    2. drjit.cuda.ad.TensorXf64(array: object)\n    3. drjit.cuda.ad.TensorXf64(array: drjit.cuda.ad.Float64)\n    4. drjit.cuda.ad.TensorXf64(array: drjit.cuda.ad.Float64, shape: List[int])\n    5. drjit.cuda.ad.TensorXf64(arg0: drjit.cuda.ad.TensorXi)\n    6. drjit.cuda.ad.TensorXf64(arg0: drjit.cuda.ad.TensorXu)\n    7. drjit.cuda.ad.TensorXf64(arg0: drjit.cuda.ad.TensorXi64)\n    8. drjit.cuda.ad.TensorXf64(arg0: drjit.cuda.ad.TensorXu64)\n    9. drjit.cuda.ad.TensorXf64(arg0: drjit.cuda.ad.TensorXf)\n    10. drjit.cuda.ad.TensorXf64(arg0: drjit.cuda.ad.TensorXf64)\n    11. drjit.cuda.ad.TensorXf64(arg0: drjit.cuda.TensorXf64)\n\nInvoked with: None",
     "output_type": "error",
     "traceback": [
      "\u001b[0;31m---------------------------------------------------------------------------\u001b[0m",
      "\u001b[0;31mTypeError\u001b[0m                                 Traceback (most recent call last)",
      "File \u001b[0;32m~/newton_cg/build/python/drjit/router.py:114\u001b[0m, in \u001b[0;36m_var_promote\u001b[0;34m(*args)\u001b[0m\n\u001b[1;32m    113\u001b[0m \u001b[38;5;28;01mtry\u001b[39;00m:\n\u001b[0;32m--> 114\u001b[0m     result[i] \u001b[38;5;241m=\u001b[39m t(result[i], shape)\n\u001b[1;32m    115\u001b[0m \u001b[38;5;28;01mexcept\u001b[39;00m:\n",
      "\u001b[0;31mTypeError\u001b[0m: __init__(): incompatible constructor arguments. The following argument types are supported:\n    1. drjit.cuda.ad.TensorXf64()\n    2. drjit.cuda.ad.TensorXf64(array: object)\n    3. drjit.cuda.ad.TensorXf64(array: drjit.cuda.ad.Float64)\n    4. drjit.cuda.ad.TensorXf64(array: drjit.cuda.ad.Float64, shape: List[int])\n    5. drjit.cuda.ad.TensorXf64(arg0: drjit.cuda.ad.TensorXi)\n    6. drjit.cuda.ad.TensorXf64(arg0: drjit.cuda.ad.TensorXu)\n    7. drjit.cuda.ad.TensorXf64(arg0: drjit.cuda.ad.TensorXi64)\n    8. drjit.cuda.ad.TensorXf64(arg0: drjit.cuda.ad.TensorXu64)\n    9. drjit.cuda.ad.TensorXf64(arg0: drjit.cuda.ad.TensorXf)\n    10. drjit.cuda.ad.TensorXf64(arg0: drjit.cuda.ad.TensorXf64)\n    11. drjit.cuda.ad.TensorXf64(arg0: drjit.cuda.TensorXf64)\n\nInvoked with: None, (32, 32, 3)",
      "\nDuring handling of the above exception, another exception occurred:\n",
      "\u001b[0;31mTypeError\u001b[0m                                 Traceback (most recent call last)",
      "Cell \u001b[0;32mIn[4], line 46\u001b[0m\n\u001b[1;32m     44\u001b[0m RESET \u001b[38;5;241m=\u001b[39m \u001b[38;5;124m'\u001b[39m\u001b[38;5;130;01m\\033\u001b[39;00m\u001b[38;5;124m[0m\u001b[39m\u001b[38;5;124m'\u001b[39m\n\u001b[1;32m     45\u001b[0m iteration_count \u001b[38;5;241m=\u001b[39m \u001b[38;5;241m20\u001b[39m\n\u001b[0;32m---> 46\u001b[0m image, loss \u001b[38;5;241m=\u001b[39m sc\u001b[38;5;241m.\u001b[39meval_func()\n\u001b[1;32m     47\u001b[0m \u001b[38;5;28;01mfor\u001b[39;00m it \u001b[38;5;129;01min\u001b[39;00m \u001b[38;5;28mrange\u001b[39m(iteration_count):\n\u001b[1;32m     48\u001b[0m \n\u001b[1;32m     49\u001b[0m     \u001b[38;5;66;03m# Compute the Gauss-Newton descent direction\u001b[39;00m\n\u001b[1;32m     50\u001b[0m     descent_dir \u001b[38;5;241m=\u001b[39m conjugate_gradient(sc\u001b[38;5;241m.\u001b[39mvalues(), loss, sc)\n",
      "File \u001b[0;32m~/newton_cg/gaussnewton_test.py:290\u001b[0m, in \u001b[0;36mAlbedoScene.eval_func\u001b[0;34m(self, x_data, forward_param, sensor_idx)\u001b[0m\n\u001b[1;32m    288\u001b[0m         loss \u001b[38;5;241m=\u001b[39m dr\u001b[38;5;241m.\u001b[39mmean(dr\u001b[38;5;241m.\u001b[39mabs(image \u001b[38;5;241m-\u001b[39m \u001b[38;5;28mself\u001b[39m\u001b[38;5;241m.\u001b[39mref_images[sensor_idx]))\n\u001b[1;32m    289\u001b[0m     \u001b[38;5;28;01melse\u001b[39;00m:\n\u001b[0;32m--> 290\u001b[0m         loss \u001b[38;5;241m=\u001b[39m dr\u001b[38;5;241m.\u001b[39mmean(dr\u001b[38;5;241m.\u001b[39mabs(image \u001b[38;5;241m-\u001b[39m \u001b[38;5;28mself\u001b[39m\u001b[38;5;241m.\u001b[39mref_images))\n\u001b[1;32m    291\u001b[0m     \u001b[38;5;66;03m# print(\"ref_images_shape: \", self.ref_images[sensor_idx])\u001b[39;00m\n\u001b[1;32m    292\u001b[0m     \u001b[38;5;66;03m# print(\"image shape: \", image)\u001b[39;00m\n\u001b[1;32m    293\u001b[0m         \u001b[38;5;66;03m#raise ValueError('sensor index should be given.')\u001b[39;00m\n\u001b[1;32m    294\u001b[0m     \u001b[38;5;66;03m# loss *= 1e5  # CRAZY\u001b[39;00m\n\u001b[1;32m    295\u001b[0m \u001b[38;5;28;01melif\u001b[39;00m \u001b[38;5;28mself\u001b[39m\u001b[38;5;241m.\u001b[39m_EXP_IDX \u001b[38;5;241m==\u001b[39m \u001b[38;5;241m-\u001b[39m\u001b[38;5;241m2\u001b[39m:\n",
      "File \u001b[0;32m~/newton_cg/build/python/drjit/router.py:1337\u001b[0m, in \u001b[0;36mop_sub\u001b[0;34m(a, b)\u001b[0m\n\u001b[1;32m   1335\u001b[0m \u001b[38;5;28;01mdef\u001b[39;00m \u001b[38;5;21mop_sub\u001b[39m(a, b):\n\u001b[1;32m   1336\u001b[0m     \u001b[38;5;28;01mif\u001b[39;00m \u001b[38;5;28mtype\u001b[39m(a) \u001b[38;5;129;01mis\u001b[39;00m \u001b[38;5;129;01mnot\u001b[39;00m \u001b[38;5;28mtype\u001b[39m(b):\n\u001b[0;32m-> 1337\u001b[0m         a, b \u001b[38;5;241m=\u001b[39m _var_promote(a, b)\n\u001b[1;32m   1338\u001b[0m     \u001b[38;5;28;01mreturn\u001b[39;00m a\u001b[38;5;241m.\u001b[39msub_(b)\n",
      "File \u001b[0;32m~/newton_cg/build/python/drjit/router.py:116\u001b[0m, in \u001b[0;36m_var_promote\u001b[0;34m(*args)\u001b[0m\n\u001b[1;32m    114\u001b[0m         result[i] \u001b[38;5;241m=\u001b[39m t(result[i], shape)\n\u001b[1;32m    115\u001b[0m     \u001b[38;5;28;01mexcept\u001b[39;00m:\n\u001b[0;32m--> 116\u001b[0m         result[i] \u001b[38;5;241m=\u001b[39m t(result[i])\n\u001b[1;32m    117\u001b[0m \u001b[38;5;28;01melse\u001b[39;00m:\n\u001b[1;32m    118\u001b[0m     result[i] \u001b[38;5;241m=\u001b[39m t(result[i])\n",
      "\u001b[0;31mTypeError\u001b[0m: __init__(): incompatible constructor arguments. The following argument types are supported:\n    1. drjit.cuda.ad.TensorXf64()\n    2. drjit.cuda.ad.TensorXf64(array: object)\n    3. drjit.cuda.ad.TensorXf64(array: drjit.cuda.ad.Float64)\n    4. drjit.cuda.ad.TensorXf64(array: drjit.cuda.ad.Float64, shape: List[int])\n    5. drjit.cuda.ad.TensorXf64(arg0: drjit.cuda.ad.TensorXi)\n    6. drjit.cuda.ad.TensorXf64(arg0: drjit.cuda.ad.TensorXu)\n    7. drjit.cuda.ad.TensorXf64(arg0: drjit.cuda.ad.TensorXi64)\n    8. drjit.cuda.ad.TensorXf64(arg0: drjit.cuda.ad.TensorXu64)\n    9. drjit.cuda.ad.TensorXf64(arg0: drjit.cuda.ad.TensorXf)\n    10. drjit.cuda.ad.TensorXf64(arg0: drjit.cuda.ad.TensorXf64)\n    11. drjit.cuda.ad.TensorXf64(arg0: drjit.cuda.TensorXf64)\n\nInvoked with: None"
     ]
    }
   ],
   "source": [
    "\n",
    "scene_dict = {\n",
    "    \"type\": \"scene\",\n",
    "    'integrator': {\n",
    "        'type': 'direct',\n",
    "        # 'max_depth': 2\n",
    "    },\n",
    "    'sensor': {\n",
    "        'type': 'perspective',\n",
    "        'fov': 30,\n",
    "        'to_world': mi.ScalarTransform4f.look_at(\n",
    "            origin=[0, 0, 1],\n",
    "            target=[0, 0, 0],\n",
    "            up=[0, 1, 0]\n",
    "        ),\n",
    "        'film': {\n",
    "            'type': 'hdrfilm',\n",
    "            'width': 32,\n",
    "            'height': 32,\n",
    "            'filter': { 'type': 'box' }\n",
    "        }\n",
    "    },\n",
    "    'shape1': {\n",
    "        'type': 'rectangle',\n",
    "        'emitter': {\n",
    "            'type': 'area',\n",
    "            'radiance': {\n",
    "                'type': 'rgb',\n",
    "                'value': [0.1, 0.2, 0.3],\n",
    "            }\n",
    "        }\n",
    "    }\n",
    "}\n",
    "\n",
    "scene = mi.load_dict(scene_dict)\n",
    "params = mi.traverse(scene)\n",
    "key = {'shape1.emitter.radiance.value'}\n",
    "\n",
    "# Instantiate the scene manager\n",
    "experiment_idx = 0\n",
    "sc = AlbedoScene(scene, params, key, _EXP_IDX = experiment_idx)\n",
    "\n",
    "# %%\n",
    "RED = '\\033[91m'\n",
    "RESET = '\\033[0m'\n",
    "iteration_count = 20\n",
    "image, loss = sc.eval_func()\n",
    "for it in range(iteration_count):\n",
    "\n",
    "    # Compute the Gauss-Newton descent direction\n",
    "    descent_dir = conjugate_gradient(sc.values(), loss, sc)\n",
    "\n",
    "    # Optimizer: take a Gauss Newton descent step\n",
    "    sc.step(descent_dir)\n",
    "\n",
    "    # Compute the loss using the current parameter values\n",
    "    image, loss = sc.eval_func()\n",
    "\n",
    "    for k in key: \n",
    "        print(f\"{RED}>>> Iteration {it:02d}: loss = {loss} \\n\\t\\t  params[key] = {params[k]}{RESET}\\n\", end='\\n')\n",
    "print('\\nOptimization complete.')\n",
    "\n",
    "print(f\"\\n\\n{sc.expected_value()}\")\n",
    "\n",
    "for k in key:\n",
    "    print(f\"  Get: {params[k]}\")\n"
   ]
  },
  {
   "cell_type": "code",
   "execution_count": null,
   "metadata": {},
   "outputs": [],
   "source": [
    "# low resolution"
   ]
  }
 ],
 "metadata": {
  "kernelspec": {
   "display_name": "test",
   "language": "python",
   "name": "python3"
  },
  "language_info": {
   "codemirror_mode": {
    "name": "ipython",
    "version": 3
   },
   "file_extension": ".py",
   "mimetype": "text/x-python",
   "name": "python",
   "nbconvert_exporter": "python",
   "pygments_lexer": "ipython3",
   "version": "3.11.5"
  }
 },
 "nbformat": 4,
 "nbformat_minor": 2
}
